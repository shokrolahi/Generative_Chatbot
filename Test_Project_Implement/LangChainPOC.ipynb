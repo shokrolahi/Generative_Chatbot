{
 "cells": [
  {
   "cell_type": "code",
   "execution_count": 2,
   "metadata": {},
   "outputs": [
    {
     "name": "stdout",
     "output_type": "stream",
     "text": [
      "WARNING:tensorflow:From c:\\Aspire_Data\\ClassAssignment\\Semester-3\\Capstone\\Test_Project_Implement\\.venv\\Lib\\site-packages\\tensorflow\\python\\compat\\v2_compat.py:107: disable_resource_variables (from tensorflow.python.ops.variable_scope) is deprecated and will be removed in a future version.\n",
      "Instructions for updating:\n",
      "non-resource variables are not supported in the long term\n",
      "curses is not supported on this machine (please install/reinstall curses for an optimal experience)\n"
     ]
    }
   ],
   "source": [
    "# things we need for NLP\n",
    "import nltk\n",
    "from nltk.stem.lancaster import LancasterStemmer\n",
    "stemmer = LancasterStemmer()\n",
    "\n",
    "\n",
    "# things we need for Tensorflow\n",
    "\n",
    "\n",
    "import numpy as np\n",
    "import tflearn\n",
    "import tensorflow as tf\n",
    "import random"
   ]
  },
  {
   "cell_type": "code",
   "execution_count": 3,
   "metadata": {},
   "outputs": [],
   "source": [
    "# import our chat-bot intents file\n",
    "import json\n",
    "with open('intentBotData.json') as json_data:\n",
    "    intents = json.load(json_data)"
   ]
  },
  {
   "cell_type": "code",
   "execution_count": 4,
   "metadata": {},
   "outputs": [
    {
     "name": "stdout",
     "output_type": "stream",
     "text": [
      "34 documents\n",
      "10 classes ['Does the screen state BAD I/O?', 'Gate Issues', 'Have you been here more than 3 hours?', 'How To Purchase A Pass', 'Lost/Missing Ticket', 'Machine Issues', 'Other Issues', 'Pass Is Unreadable', 'Payment Issues', 'Ticket Is Unreadable']\n",
      "89 unique stemmed words [\"'\", \"'paid\", \"'ve\", ',', '3', 'a', 'acceiv', 'access', 'and', 'bad', 'banknote/bill', 'been', 'but', 'buy', 'ca', 'can', 'card', 'chang', 'charg', 'credit', 'dam', 'delivery', 'diff', 'dispens', 'do', 'doe', 'entry', 'er', 'excess', 'find', 'for', 'gat', 'giv', 'has', 'hav', 'hear', 'her', 'hour', 'how', 'i', 'i/o', 'if', 'in', 'insert', 'is', 'it', 'limit', 'lost', 'machin', 'machine/vandalism', 'mess', 'miss', 'month', 'my', \"n't\", 'no', 'not', 'on', 'op', 'operator/operat', 'out', 'ov', 'paid', 'park', 'pass', 'plac', 'purchas', 'read', 'receipt', 'return', 'say', 'scan', 'screen', 'should', 'stuck', 'than', 'the', 'ticket', 'tim', 'to', 'unread', 'us', 'was', 'week', 'what', 'wil', 'without', 'wo', 'you']\n",
      "[(['How', 'can', 'I', 'buy', 'a', 'parking', 'pass', '?'], 'How To Purchase A Pass'), (['Purchase', 'a', 'parking', 'pass'], 'How To Purchase A Pass'), (['Buy', 'a', 'pass', 'without', 'a', 'ticket'], 'How To Purchase A Pass'), (['Change', 'to', 'a', 'weekly', 'pass'], 'How To Purchase A Pass'), (['I', 'lost', 'my', 'parking', 'ticket'], 'Lost/Missing Ticket'), (['What', 'do', 'I', 'do', 'if', 'I', 'ca', \"n't\", 'find', 'my', 'ticket', '?'], 'Lost/Missing Ticket'), (['Charge', 'for', 'a', 'lost', 'ticket'], 'Lost/Missing Ticket'), (['My', 'parking', 'ticket', 'is', 'not', 'readable'], 'Ticket Is Unreadable'), (['Ticket', 'wo', \"n't\", 'scan'], 'Ticket Is Unreadable'), (['Ca', \"n't\", 'read', 'my', 'parking', 'pass'], 'Ticket Is Unreadable'), (['Have', 'I', 'exceeded', 'the', 'parking', 'time', 'limit', '?'], 'Have you been here more than 3 hours?'), (['What', 'if', 'I', \"'ve\", 'been', 'here', 'for', 'over', '3', 'hours', '?'], 'Have you been here more than 3 hours?'), (['My', 'parking', 'pass', 'is', 'not', 'scanning'], 'Pass Is Unreadable'), (['Ca', \"n't\", 'read', 'my', 'monthly', 'pass'], 'Pass Is Unreadable'), (['The', 'screen', 'says', 'BAD', 'I/O', ',', 'what', 'should', 'I', 'do', '?'], 'Does the screen state BAD I/O?'), (['Error', 'message', 'BAD', 'I/O'], 'Does the screen state BAD I/O?'), (['Machine', 'will', 'not', 'give', 'out', 'a', 'ticket'], 'Machine Issues'), (['Machine', 'will', 'not', 'accept', 'ticket'], 'Machine Issues'), (['Machine', 'will', 'not', 'accept', 'credit', 'card'], 'Machine Issues'), (['Credit', 'card', 'is', 'stuck', 'in', 'the', 'machine'], 'Machine Issues'), (['Credit', 'card', 'placement'], 'Payment Issues'), (['Banknote/bill', 'placement'], 'Payment Issues'), (['Change', 'has', 'not', 'been', 'dispensed'], 'Payment Issues'), (['Missing', 'receipt'], 'Payment Issues'), (['Credit', 'card', 'is', 'unreadable'], 'Payment Issues'), (['Using', 'a', 'different', 'credit', 'card', 'than', 'was', 'used', 'for', 'entry'], 'Payment Issues'), (['Ticket', 'was', 'paid', 'for', ',', 'but', 'the', 'gate', 'will', 'not', 'open'], 'Gate Issues'), (['It', 'does', 'not', 'say', \"'Paid\", \"'\", 'on', 'the', 'ticket', '?'], 'Gate Issues'), (['Gate', 'accepts', 'ticket', 'but', 'does', 'not', 'open'], 'Gate Issues'), (['Gate', 'wo', \"n't\", 'open', 'and', 'no', 'ticket', 'returned'], 'Gate Issues'), (['Credit', 'card', 'inserted', 'but', 'gate', 'will', 'not', 'open'], 'Gate Issues'), (['Can', 'not', 'hear', 'operator/operator', 'can', 'not', 'hear', 'you'], 'Other Issues'), (['Delivery', 'access'], 'Other Issues'), (['Damaged', 'machine/vandalism'], 'Other Issues')]\n"
     ]
    }
   ],
   "source": [
    "words = []\n",
    "classes = []\n",
    "documents = []\n",
    "ignore_words = ['?']\n",
    "# loop through each sentence in our intents patterns\n",
    "for intent in intents['intents']:\n",
    "    for pattern in intent['patterns']:\n",
    "        # tokenize each word in the sentence\n",
    "        w = nltk.word_tokenize(pattern)\n",
    "        # add to our words list\n",
    "        words.extend(w)\n",
    "        # add to documents in our corpus\n",
    "        documents.append((w, intent['tag']))\n",
    "        # add to our classes list\n",
    "        if intent['tag'] not in classes:\n",
    "            classes.append(intent['tag'])\n",
    "\n",
    "# stem and lower each word and remove duplicates\n",
    "words = [stemmer.stem(w.lower()) for w in words if w not in ignore_words]\n",
    "words = sorted(list(set(words)))\n",
    "\n",
    "# remove duplicates\n",
    "classes = sorted(list(set(classes)))\n",
    "\n",
    "print (len(documents), \"documents\")\n",
    "print (len(classes), \"classes\", classes)\n",
    "print (len(words), \"unique stemmed words\", words)\n",
    "print(documents)"
   ]
  },
  {
   "cell_type": "code",
   "execution_count": 5,
   "metadata": {},
   "outputs": [
    {
     "name": "stdout",
     "output_type": "stream",
     "text": [
      "(34, 89)\n",
      "(34, 10)\n"
     ]
    },
    {
     "name": "stderr",
     "output_type": "stream",
     "text": [
      "C:\\Users\\gurda\\AppData\\Local\\Temp\\ipykernel_29300\\3838598322.py:27: VisibleDeprecationWarning: Creating an ndarray from ragged nested sequences (which is a list-or-tuple of lists-or-tuples-or ndarrays with different lengths or shapes) is deprecated. If you meant to do this, you must specify 'dtype=object' when creating the ndarray.\n",
      "  training = np.array(training)\n"
     ]
    }
   ],
   "source": [
    "# create our training data\n",
    "training = []\n",
    "output = []\n",
    "# create an empty array for our output\n",
    "output_empty = [0] * len(classes)\n",
    "\n",
    "# training set, bag of words for each sentence\n",
    "for doc in documents:\n",
    "    # initialize our bag of words\n",
    "    bag = []\n",
    "    # list of tokenized words for the pattern\n",
    "    pattern_words = doc[0]\n",
    "    # stem each word\n",
    "    pattern_words = [stemmer.stem(word.lower()) for word in pattern_words]\n",
    "    # create our bag of words array\n",
    "    for w in words:\n",
    "        bag.append(1) if w in pattern_words else bag.append(0)\n",
    "\n",
    "    # output is a '0' for each tag and '1' for current tag\n",
    "    output_row = list(output_empty)\n",
    "    output_row[classes.index(doc[1])] = 1\n",
    "\n",
    "    training.append([bag, output_row])\n",
    "\n",
    "# shuffle our features and turn into np.array\n",
    "random.shuffle(training)\n",
    "training = np.array(training)\n",
    "\n",
    "# create train and test lists\n",
    "train_x = list(training[:,0])\n",
    "train_y = list(training[:,1])\n",
    "\n",
    "print(np.array(train_x).shape)\n",
    "print(np.array(train_y).shape)"
   ]
  },
  {
   "cell_type": "code",
   "execution_count": 6,
   "metadata": {},
   "outputs": [
    {
     "name": "stdout",
     "output_type": "stream",
     "text": [
      "Training Step: 4999  | total loss: \u001b[1m\u001b[32m0.00309\u001b[0m\u001b[0m | time: 0.008s\n",
      "| Adam | epoch: 1000 | loss: 0.00309 - acc: 1.0000 -- iter: 32/34\n",
      "Training Step: 5000  | total loss: \u001b[1m\u001b[32m0.00300\u001b[0m\u001b[0m | time: 0.010s\n",
      "| Adam | epoch: 1000 | loss: 0.00300 - acc: 1.0000 -- iter: 34/34\n",
      "--\n",
      "INFO:tensorflow:c:\\Aspire_Data\\ClassAssignment\\Semester-3\\Capstone\\Test_Project_Implement\\model.tflearn is not in all_model_checkpoint_paths. Manually adding it.\n"
     ]
    }
   ],
   "source": [
    "# reset underlying graph data\n",
    "# tf.reset_default_graph()\n",
    "# Build neural network\n",
    "#https://towardsdatascience.com/building-your-first-neural-network-in-tensorflow-2-tensorflow-for-hackers-part-i-e1e2f1dfe7a0\n",
    "\n",
    "net = tflearn.input_data(shape=[None, len(train_x[0])])\n",
    "net = tflearn.fully_connected(net, 8)\n",
    "net = tflearn.fully_connected(net, 8)\n",
    "net = tflearn.fully_connected(net, len(train_y[0]), activation='softmax')\n",
    "net = tflearn.regression(net)\n",
    "\n",
    "# Define model and setup tensorboard\n",
    "model = tflearn.DNN(net, tensorboard_dir='tflearn_logs')\n",
    "# Start training (apply gradient descent algorithm)\n",
    "model.fit(train_x, train_y, n_epoch=1000, batch_size=8, show_metric=True)\n",
    "model.save('model.tflearn')"
   ]
  },
  {
   "cell_type": "code",
   "execution_count": 7,
   "metadata": {},
   "outputs": [],
   "source": [
    "# save all of our data structures\n",
    "import pickle\n",
    "pickle.dump( {'words':words, 'classes':classes, 'train_x':train_x, 'train_y':train_y}, open( \"training_data\", \"wb\" ) )\n"
   ]
  },
  {
   "cell_type": "code",
   "execution_count": 8,
   "metadata": {},
   "outputs": [],
   "source": [
    "# restore all of our data structures\n",
    "import pickle\n",
    "data = pickle.load( open( \"training_data\", \"rb\" ) )\n",
    "words = data['words']\n",
    "classes = data['classes']\n",
    "train_x = data['train_x']\n",
    "train_y = data['train_y']\n",
    "\n",
    "# import our chat-bot intents file\n",
    "import json\n",
    "with open('IntentBotData.json') as json_data:\n",
    "    intents = json.load(json_data)"
   ]
  },
  {
   "cell_type": "code",
   "execution_count": 9,
   "metadata": {},
   "outputs": [
    {
     "name": "stdout",
     "output_type": "stream",
     "text": [
      "INFO:tensorflow:Restoring parameters from c:\\Aspire_Data\\ClassAssignment\\Semester-3\\Capstone\\Test_Project_Implement\\model.tflearn\n"
     ]
    }
   ],
   "source": [
    "# load our saved model\n",
    "model.load('./model.tflearn')"
   ]
  },
  {
   "cell_type": "code",
   "execution_count": 10,
   "metadata": {},
   "outputs": [],
   "source": [
    "def clean_up_sentence(sentence):\n",
    "    # tokenize the pattern\n",
    "    sentence_words = nltk.word_tokenize(sentence)\n",
    "    # stem each word\n",
    "    sentence_words = [stemmer.stem(word.lower()) for word in sentence_words]\n",
    "    return sentence_words\n",
    "\n",
    "# return bag of words array: 0 or 1 for each word in the bag that exists in the sentence\n",
    "def bow(sentence, words, show_details=False):\n",
    "    # tokenize the pattern\n",
    "    sentence_words = clean_up_sentence(sentence)\n",
    "    # bag of words\n",
    "    bag = [0]*len(words)  \n",
    "    for s in sentence_words:\n",
    "        for i,w in enumerate(words):\n",
    "            if w == s: \n",
    "                bag[i] = 1\n",
    "                if show_details:\n",
    "                    print (\"found in bag: %s\" % w)\n",
    "\n",
    "    return(np.array(bag))"
   ]
  },
  {
   "cell_type": "code",
   "execution_count": 11,
   "metadata": {},
   "outputs": [],
   "source": [
    "ERROR_THRESHOLD = 0.25\n",
    "def classify(sentence):\n",
    "    # generate probabilities from the model\n",
    "    results = model.predict([bow(sentence, words)])[0]\n",
    "    # filter out predictions below a threshold\n",
    "    results = [[i,r] for i,r in enumerate(results) if r>ERROR_THRESHOLD]\n",
    "    # sort by strength of probability\n",
    "    results.sort(key=lambda x: x[1], reverse=True)\n",
    "    return_list = []\n",
    "    for r in results:\n",
    "        return_list.append((classes[r[0]], r[1]))\n",
    "    # return tuple of intent and probability\n",
    "    return return_list\n",
    "\n",
    "def response(sentence, userID='123', show_details=False):\n",
    "    results = classify(sentence)\n",
    "    # if we have a classification then find the matching intent tag\n",
    "    if results:\n",
    "        # loop as long as there are matches to process\n",
    "        while results:\n",
    "            for i in intents['intents']:\n",
    "                # find a tag matching the first result\n",
    "                if i['tag'] == results[0][0]:\n",
    "                    # a random response from the intent\n",
    "                    return print(random.choice(i['responses']))\n",
    "\n",
    "            results.pop(0)"
   ]
  },
  {
   "cell_type": "code",
   "execution_count": 12,
   "metadata": {},
   "outputs": [
    {
     "data": {
      "text/plain": [
       "[('How To Purchase A Pass', 0.9991309)]"
      ]
     },
     "execution_count": 12,
     "metadata": {},
     "output_type": "execute_result"
    }
   ],
   "source": [
    "classify('How to buy a pass')"
   ]
  },
  {
   "cell_type": "code",
   "execution_count": 13,
   "metadata": {},
   "outputs": [
    {
     "name": "stdout",
     "output_type": "stream",
     "text": [
      "To purchase a pass without a ticket, press the 'Pass' button on the screen. You can change the pass type to daily, weekly, or monthly by pressing the 'Next' button.\n"
     ]
    }
   ],
   "source": [
    "response('How to buy a Pass?')\n"
   ]
  },
  {
   "cell_type": "code",
   "execution_count": 14,
   "metadata": {},
   "outputs": [],
   "source": [
    "# create a data structure to hold user context\n",
    "context = {}\n",
    "\n",
    "ERROR_THRESHOLD = 0.50\n",
    "def classify(sentence):\n",
    "    # generate probabilities from the model\n",
    "    results = model.predict([bow(sentence, words)])[0]\n",
    "    # filter out predictions below a threshold\n",
    "    results = [[i,r] for i,r in enumerate(results) if r>ERROR_THRESHOLD]\n",
    "    # sort by strength of probability\n",
    "    results.sort(key=lambda x: x[1], reverse=True)\n",
    "    return_list = []\n",
    "    for r in results:\n",
    "        return_list.append((classes[r[0]], r[1]))\n",
    "    # return tuple of intent and probability\n",
    "    return return_list\n",
    "\n",
    "def response(sentence, userID='123', show_details=False):\n",
    "    results = classify(sentence)\n",
    "    # if we have a classification then find the matching intent tag\n",
    "    if results:\n",
    "        # loop as long as there are matches to process\n",
    "        while results:\n",
    "            for i in intents['intents']:\n",
    "                # find a tag matching the first result\n",
    "                if i['tag'] == results[0][0]:\n",
    "                    # set context for this intent if necessary\n",
    "                    if 'context_set' in i:\n",
    "                        if show_details: print ('context:', i['context_set'])\n",
    "                        context[userID] = i['context_set']\n",
    "\n",
    "                    # check if this intent is contextual and applies to this user's conversation\n",
    "                    if not 'context_filter' in i or \\\n",
    "                        (userID in context and 'context_filter' in i and i['context_filter'] == context[userID]):\n",
    "                        if show_details: print ('tag:', i['tag'])\n",
    "                        # a random response from the intent\n",
    "                        return print(random.choice(i['responses']))\n",
    "                    \n",
    "                    if i['tag'] == results[0][0]: \n",
    "                        if 'context_set' in i:\n",
    "                            if show_details: print ('context:', i['context_set'])\n",
    "                            context[userID] = i['context_set']\n",
    "\n",
    "                    # check if this intent is contextual and applies to this user's conversation\n",
    "                    if not 'context_filter' in i or \\\n",
    "                        (userID in context and 'context_filter' in i and i['context_filter'] == context[userID]):\n",
    "                        if show_details: print ('tag:', i['tag'])\n",
    "                        # a random response from the intent\n",
    "                        return print(random.choice(i['responses']))\n",
    "\n",
    "            results.pop(0)"
   ]
  },
  {
   "cell_type": "code",
   "execution_count": 21,
   "metadata": {},
   "outputs": [
    {
     "name": "stdout",
     "output_type": "stream",
     "text": [
      "If you've lost your ticket, you can purchase a replacement from the pay station. Please note that you will be charged for the maximum time.\n"
     ]
    }
   ],
   "source": [
    "response('ticket lost')"
   ]
  },
  {
   "cell_type": "code",
   "execution_count": 16,
   "metadata": {},
   "outputs": [],
   "source": [
    "response('Whats your name')"
   ]
  },
  {
   "cell_type": "code",
   "execution_count": 20,
   "metadata": {},
   "outputs": [
    {
     "name": "stdout",
     "output_type": "stream",
     "text": [
      "If you've lost your ticket, you can purchase a replacement from the pay station. Please note that you will be charged for the maximum time.\n"
     ]
    }
   ],
   "source": [
    "response('I lost my tickert')\n"
   ]
  },
  {
   "cell_type": "code",
   "execution_count": null,
   "metadata": {},
   "outputs": [],
   "source": [
    "# Evaluating Model\n",
    "\n",
    "# Accuracy\n"
   ]
  }
 ],
 "metadata": {
  "kernelspec": {
   "display_name": "Python 3",
   "language": "python",
   "name": "python3"
  },
  "language_info": {
   "codemirror_mode": {
    "name": "ipython",
    "version": 3
   },
   "file_extension": ".py",
   "mimetype": "text/x-python",
   "name": "python",
   "nbconvert_exporter": "python",
   "pygments_lexer": "ipython3",
   "version": "3.11.6"
  },
  "orig_nbformat": 4
 },
 "nbformat": 4,
 "nbformat_minor": 2
}
